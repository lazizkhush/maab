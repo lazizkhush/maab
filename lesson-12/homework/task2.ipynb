{
 "cells": [
  {
   "cell_type": "code",
   "execution_count": 6,
   "metadata": {},
   "outputs": [],
   "source": [
    "import sqlite3\n",
    "with sqlite3.connect('jobs.db') as con:\n",
    "    cursor = con.cursor()\n",
    "    query = \"CREATE TABLE Jobs(Title text, Company text, Location text, Aplication_link text)\"\n",
    "    cursor.execute(query)"
   ]
  },
  {
   "cell_type": "code",
   "execution_count": 7,
   "metadata": {},
   "outputs": [],
   "source": [
    "from bs4 import BeautifulSoup\n",
    "import requests\n",
    "with sqlite3.connect('jobs.db') as con:\n",
    "    cursor = con.cursor()\n",
    "    request = requests.get('https://realpython.github.io/fake-jobs/')\n",
    "    soup = BeautifulSoup(request.content, 'html.parser')\n",
    "    postings = soup.find_all('div', class_='card-content')\n",
    "    values = []\n",
    "    for post in postings:\n",
    "        title = post.find('h2', class_='title').text \n",
    "        company = post.find('h3', class_='company').text\n",
    "        location = post.find('p', class_='location').text\n",
    "        application_link = post.find_all('a')[1].get('href')\n",
    "        value = (title, company, location, application_link)\n",
    "        values.append(value)\n",
    "\n",
    "    cursor.executemany('Insert into Jobs Values(?, ?, ?, ?)', values)"
   ]
  },
  {
   "cell_type": "code",
   "execution_count": null,
   "metadata": {},
   "outputs": [],
   "source": []
  }
 ],
 "metadata": {
  "kernelspec": {
   "display_name": "Python 3",
   "language": "python",
   "name": "python3"
  },
  "language_info": {
   "codemirror_mode": {
    "name": "ipython",
    "version": 3
   },
   "file_extension": ".py",
   "mimetype": "text/x-python",
   "name": "python",
   "nbconvert_exporter": "python",
   "pygments_lexer": "ipython3",
   "version": "3.12.5"
  }
 },
 "nbformat": 4,
 "nbformat_minor": 2
}
