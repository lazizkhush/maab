{
 "cells": [
  {
   "cell_type": "markdown",
   "metadata": {},
   "source": [
    "ex1"
   ]
  },
  {
   "cell_type": "code",
   "execution_count": 4,
   "metadata": {},
   "outputs": [
    {
     "data": {
      "text/plain": [
       "array([10, 15, 20, 25, 30, 35, 40, 45])"
      ]
     },
     "execution_count": 4,
     "metadata": {},
     "output_type": "execute_result"
    }
   ],
   "source": [
    "import numpy as np\n",
    "a1 = np.arange(10, 50, 5)\n",
    "print(a1)"
   ]
  },
  {
   "cell_type": "markdown",
   "metadata": {},
   "source": [
    "ex2"
   ]
  },
  {
   "cell_type": "code",
   "execution_count": 9,
   "metadata": {},
   "outputs": [
    {
     "name": "stdout",
     "output_type": "stream",
     "text": [
      "[[0 1 2]\n",
      " [3 4 5]\n",
      " [6 7 8]]\n"
     ]
    }
   ],
   "source": [
    "a2 = np.arange(9).reshape(3, 3)\n",
    "print(a2)"
   ]
  },
  {
   "cell_type": "markdown",
   "metadata": {},
   "source": [
    "ex3"
   ]
  },
  {
   "cell_type": "code",
   "execution_count": 11,
   "metadata": {},
   "outputs": [
    {
     "name": "stdout",
     "output_type": "stream",
     "text": [
      "[[1. 0. 0.]\n",
      " [0. 1. 0.]\n",
      " [0. 0. 1.]]\n"
     ]
    }
   ],
   "source": [
    "a3 = np.eye(3)\n",
    "print(a3)"
   ]
  },
  {
   "cell_type": "markdown",
   "metadata": {},
   "source": [
    "ex4"
   ]
  },
  {
   "cell_type": "code",
   "execution_count": 13,
   "metadata": {},
   "outputs": [
    {
     "name": "stdout",
     "output_type": "stream",
     "text": [
      "[[[ 0  1  2]\n",
      "  [ 3  4  5]\n",
      "  [ 6  7  8]]\n",
      "\n",
      " [[ 9 10 11]\n",
      "  [12 13 14]\n",
      "  [15 16 17]]\n",
      "\n",
      " [[18 19 20]\n",
      "  [21 22 23]\n",
      "  [24 25 26]]]\n"
     ]
    }
   ],
   "source": [
    "a4 = np.arange(27).reshape(3, 3, 3)\n",
    "print(a3)"
   ]
  },
  {
   "cell_type": "markdown",
   "metadata": {},
   "source": [
    "ex5"
   ]
  },
  {
   "cell_type": "code",
   "execution_count": 19,
   "metadata": {},
   "outputs": [
    {
     "name": "stdout",
     "output_type": "stream",
     "text": [
      "max value: 98\n",
      "min value: 0\n"
     ]
    }
   ],
   "source": [
    "a5 = np.random.randint(0, 100, (10, 10))\n",
    "print(f'max value: {a5.max()}')\n",
    "print(f'min value: {a5.min()}')"
   ]
  },
  {
   "cell_type": "markdown",
   "metadata": {},
   "source": [
    "ex6"
   ]
  },
  {
   "cell_type": "code",
   "execution_count": 23,
   "metadata": {},
   "outputs": [
    {
     "name": "stdout",
     "output_type": "stream",
     "text": [
      "4.4\n"
     ]
    }
   ],
   "source": [
    "arr = np.random.randint(0, 10, 30)\n",
    "print(arr.mean())"
   ]
  },
  {
   "cell_type": "markdown",
   "metadata": {},
   "source": [
    "ex7"
   ]
  },
  {
   "cell_type": "code",
   "execution_count": 24,
   "metadata": {},
   "outputs": [
    {
     "name": "stdout",
     "output_type": "stream",
     "text": [
      "Original Matrix:\n",
      " [[63  8 85 92 39]\n",
      " [81 83 86 74 15]\n",
      " [56 56 49 29 76]\n",
      " [18 49 23 41  3]\n",
      " [98 68 22 75 61]]\n",
      "Normalized Matrix:\n",
      " [[0.63157895 0.05263158 0.86315789 0.93684211 0.37894737]\n",
      " [0.82105263 0.84210526 0.87368421 0.74736842 0.12631579]\n",
      " [0.55789474 0.55789474 0.48421053 0.27368421 0.76842105]\n",
      " [0.15789474 0.48421053 0.21052632 0.4        0.        ]\n",
      " [1.         0.68421053 0.2        0.75789474 0.61052632]]\n"
     ]
    }
   ],
   "source": [
    "matrix = np.random.randint(0, 100, (5, 5))\n",
    "\n",
    "# Min-Max Normalization\n",
    "normalized_matrix = (matrix - matrix.min()) / (matrix.max() - matrix.min())\n",
    "\n",
    "print(\"Original Matrix:\\n\", matrix)\n",
    "print(\"Normalized Matrix:\\n\", normalized_matrix)\n"
   ]
  },
  {
   "cell_type": "markdown",
   "metadata": {},
   "source": [
    "ex8"
   ]
  },
  {
   "cell_type": "code",
   "execution_count": 31,
   "metadata": {},
   "outputs": [
    {
     "name": "stdout",
     "output_type": "stream",
     "text": [
      "[[1 6 3]\n",
      " [4 5 0]\n",
      " [8 8 5]\n",
      " [2 1 7]\n",
      " [4 5 0]]\n",
      "[[1 7]\n",
      " [6 3]\n",
      " [7 4]]\n",
      "Multiplied\n",
      "[[ 58  37]\n",
      " [ 34  43]\n",
      " [ 91 100]\n",
      " [ 57  45]\n",
      " [ 34  43]]\n"
     ]
    }
   ],
   "source": [
    "arr1 = np.random.randint(0, 10, (5, 3))\n",
    "arr2 = np.random.randint(0, 10, (3, 2))\n",
    "print(arr1)\n",
    "print(arr2)\n",
    "print('Multiplied:')\n",
    "print(arr1@arr2)"
   ]
  },
  {
   "cell_type": "markdown",
   "metadata": {},
   "source": [
    "ex9"
   ]
  },
  {
   "cell_type": "code",
   "execution_count": 32,
   "metadata": {},
   "outputs": [
    {
     "name": "stdout",
     "output_type": "stream",
     "text": [
      "arr1:\n",
      "[[1 1 7]\n",
      " [1 2 0]\n",
      " [9 1 8]]\n",
      "arr2:\n",
      "[[4 6 8]\n",
      " [9 5 8]\n",
      " [1 3 7]]\n",
      "[[ 20  32  65]\n",
      " [ 22  16  24]\n",
      " [ 53  83 136]]\n"
     ]
    }
   ],
   "source": [
    "arr1 = np.random.randint(0, 10, (3, 3))\n",
    "arr2 = np.random.randint(0, 10, (3, 3))\n",
    "print('arr1:')\n",
    "print(arr1)\n",
    "print('arr2:')\n",
    "print(arr2)\n",
    "print(np.dot(arr1, arr2))"
   ]
  },
  {
   "cell_type": "markdown",
   "metadata": {},
   "source": [
    "ex10"
   ]
  },
  {
   "cell_type": "code",
   "execution_count": 34,
   "metadata": {},
   "outputs": [
    {
     "name": "stdout",
     "output_type": "stream",
     "text": [
      "Original:\n",
      "[[3 0 2 7]\n",
      " [9 0 4 8]\n",
      " [3 1 1 0]\n",
      " [5 4 3 7]]\n",
      "Transpose:\n",
      "[[3 9 3 5]\n",
      " [0 0 1 4]\n",
      " [2 4 1 3]\n",
      " [7 8 0 7]]\n"
     ]
    }
   ],
   "source": [
    "arr1 = np.random.randint(0, 10, (4, 4))\n",
    "print('Original:')\n",
    "print(arr1)\n",
    "print('Transpose:')\n",
    "print(arr1.transpose())"
   ]
  },
  {
   "cell_type": "markdown",
   "metadata": {},
   "source": [
    "ex11"
   ]
  },
  {
   "cell_type": "code",
   "execution_count": 37,
   "metadata": {},
   "outputs": [
    {
     "name": "stdout",
     "output_type": "stream",
     "text": [
      "Matrix A:\n",
      " [[1 2 3]\n",
      " [4 5 6]\n",
      " [7 8 9]]\n",
      "Determinant of A: 0.0\n"
     ]
    }
   ],
   "source": [
    "# Create a 3x3 matrix\n",
    "A = np.array([[1, 2, 3], \n",
    "              [4, 5, 6], \n",
    "              [7, 8, 9]])\n",
    "\n",
    "# Compute the determinant\n",
    "det_A = np.linalg.det(A)\n",
    "\n",
    "print(\"Matrix A:\\n\", A)\n",
    "print(\"Determinant of A:\", det_A)\n"
   ]
  },
  {
   "cell_type": "markdown",
   "metadata": {},
   "source": [
    "ex12"
   ]
  },
  {
   "cell_type": "code",
   "execution_count": 38,
   "metadata": {},
   "outputs": [
    {
     "name": "stdout",
     "output_type": "stream",
     "text": [
      "Matrix A (3x4):\n",
      " [[5 5 6 2]\n",
      " [1 2 8 5]\n",
      " [9 5 8 6]]\n",
      "Matrix B (4x3):\n",
      " [[9 5 3]\n",
      " [8 3 2]\n",
      " [8 5 8]\n",
      " [8 1 7]]\n",
      "Matrix Product C (3x3):\n",
      " [[149  72  87]\n",
      " [129  56 106]\n",
      " [233 106 143]]\n"
     ]
    }
   ],
   "source": [
    "# Create a 3x4 matrix (A) with random integers\n",
    "A = np.random.randint(1, 10, (3, 4))\n",
    "\n",
    "# Create a 4x3 matrix (B) with random integers\n",
    "B = np.random.randint(1, 10, (4, 3))\n",
    "\n",
    "# Compute the matrix product (A × B)\n",
    "C = np.dot(A, B) \n",
    "\n",
    "print(\"Matrix A (3x4):\\n\", A)\n",
    "print(\"Matrix B (4x3):\\n\", B)\n",
    "print(\"Matrix Product C (3x3):\\n\", C)\n"
   ]
  },
  {
   "cell_type": "markdown",
   "metadata": {},
   "source": [
    "ex13"
   ]
  },
  {
   "cell_type": "code",
   "execution_count": 39,
   "metadata": {},
   "outputs": [
    {
     "name": "stdout",
     "output_type": "stream",
     "text": [
      "Matrix A (3x3):\n",
      " [[6 1 1]\n",
      " [1 2 9]\n",
      " [1 1 9]]\n",
      "Column Vector v (3x1):\n",
      " [[8]\n",
      " [9]\n",
      " [2]]\n",
      "Matrix-Vector Product (3x1):\n",
      " [[59]\n",
      " [44]\n",
      " [35]]\n"
     ]
    }
   ],
   "source": [
    "# Create a random 3x3 matrix\n",
    "A = np.random.randint(1, 10, (3, 3))\n",
    "\n",
    "# Create a random 3-element column vector\n",
    "v = np.random.randint(1, 10, (3, 1))\n",
    "\n",
    "# Compute the matrix-vector product\n",
    "result = np.dot(A, v)  \n",
    "\n",
    "print(\"Matrix A (3x3):\\n\", A)\n",
    "print(\"Column Vector v (3x1):\\n\", v)\n",
    "print(\"Matrix-Vector Product (3x1):\\n\", result)\n"
   ]
  },
  {
   "cell_type": "code",
   "execution_count": null,
   "metadata": {},
   "outputs": [],
   "source": [
    "# Create a 3x3 matrix (A)\n",
    "A = np.array([[2, 3, 1], \n",
    "              [4, 5, 6], \n",
    "              [7, 8, 9]])\n",
    "\n",
    "# Create a 3x1 column vector (b)\n",
    "b = np.array([[1], \n",
    "              [2], \n",
    "              [3]])\n",
    "\n",
    "# Solve for x using np.linalg.solve()\n",
    "x = np.linalg.solve(A, b)\n",
    "\n",
    "print(\"Matrix A:\\n\", A)\n",
    "print(\"Vector b:\\n\", b)\n",
    "print(\"Solution x:\\n\", x)\n"
   ]
  },
  {
   "cell_type": "code",
   "execution_count": 41,
   "metadata": {},
   "outputs": [
    {
     "name": "stdout",
     "output_type": "stream",
     "text": [
      "Matrix A (5x5):\n",
      " [[4 8 6 8 2]\n",
      " [8 1 5 6 9]\n",
      " [2 8 1 4 2]\n",
      " [7 1 2 7 4]\n",
      " [5 5 8 3 7]]\n",
      "Row-wise sums:\n",
      " [28 29 17 21 28]\n",
      "Column-wise sums:\n",
      " [26 23 22 28 24]\n"
     ]
    }
   ],
   "source": [
    "# Create a 5x5 matrix with random integers\n",
    "A = np.random.randint(1, 10, (5, 5))\n",
    "\n",
    "# Compute row-wise sums (sum along axis=1)\n",
    "row_sums = np.sum(A, axis=1)\n",
    "\n",
    "# Compute column-wise sums (sum along axis=0)\n",
    "col_sums = np.sum(A, axis=0)\n",
    "\n",
    "print(\"Matrix A (5x5):\\n\", A)\n",
    "print(\"Row-wise sums:\\n\", row_sums)\n",
    "print(\"Column-wise sums:\\n\", col_sums)\n"
   ]
  },
  {
   "cell_type": "markdown",
   "metadata": {},
   "source": []
  }
 ],
 "metadata": {
  "kernelspec": {
   "display_name": "Python 3",
   "language": "python",
   "name": "python3"
  },
  "language_info": {
   "codemirror_mode": {
    "name": "ipython",
    "version": 3
   },
   "file_extension": ".py",
   "mimetype": "text/x-python",
   "name": "python",
   "nbconvert_exporter": "python",
   "pygments_lexer": "ipython3",
   "version": "3.12.5"
  }
 },
 "nbformat": 4,
 "nbformat_minor": 2
}
