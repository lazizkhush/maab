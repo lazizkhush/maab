{
 "cells": [
  {
   "cell_type": "markdown",
   "metadata": {},
   "source": [
    "ex1"
   ]
  },
  {
   "cell_type": "code",
   "execution_count": 5,
   "metadata": {},
   "outputs": [
    {
     "name": "stdout",
     "output_type": "stream",
     "text": [
      "[-11.1   0.6   6.1  17.8]\n"
     ]
    }
   ],
   "source": [
    "import numpy as np\n",
    "@np.vectorize\n",
    "def far_to_cel(temp):\n",
    "    return round((temp-32)*5/9, 1)\n",
    "\n",
    "arr = np.array([12, 33, 43, 64])\n",
    "print(far_to_cel(arr))"
   ]
  },
  {
   "cell_type": "markdown",
   "metadata": {},
   "source": [
    "ex2"
   ]
  },
  {
   "cell_type": "code",
   "execution_count": 6,
   "metadata": {},
   "outputs": [
    {
     "name": "stdout",
     "output_type": "stream",
     "text": [
      "[  2   9  64 625]\n"
     ]
    }
   ],
   "source": [
    "@np.vectorize\n",
    "def calculate_power(num, power):\n",
    "    return num**power\n",
    "\n",
    "nums = np.array([2, 3, 4, 5])\n",
    "powers = np.array([1, 2, 3, 4])\n",
    "\n",
    "calculated = calculate_power(nums, powers)\n",
    "print(calculated)"
   ]
  },
  {
   "cell_type": "markdown",
   "metadata": {},
   "source": [
    "ex3"
   ]
  },
  {
   "cell_type": "code",
   "execution_count": 8,
   "metadata": {},
   "outputs": [
    {
     "data": {
      "text/plain": [
       "array([ 1.7027027 ,  0.62162162, -0.48648649])"
      ]
     },
     "execution_count": 8,
     "metadata": {},
     "output_type": "execute_result"
    }
   ],
   "source": [
    "coefs = np.array([\n",
    "    [4, 5, 6],\n",
    "    [3, -1, 1],\n",
    "    [2, 1, -2]\n",
    "])\n",
    "\n",
    "eq = np.array([7, 4, 5])\n",
    "\n",
    "np.linalg.solve(coefs, eq)"
   ]
  },
  {
   "cell_type": "code",
   "execution_count": 10,
   "metadata": {},
   "outputs": [
    {
     "data": {
      "text/plain": [
       "array([ 0.48963731, -0.2253886 ,  2.21761658])"
      ]
     },
     "execution_count": 10,
     "metadata": {},
     "output_type": "execute_result"
    }
   ],
   "source": [
    "coefs = np.array([\n",
    "    [10, -2, 3],\n",
    "    [-2, 8, -1],\n",
    "    [3, -1, 6]\n",
    "])\n",
    "\n",
    "eq = np.array([12, -5, 15])\n",
    "\n",
    "np.linalg.solve(coefs, eq)"
   ]
  },
  {
   "cell_type": "markdown",
   "metadata": {},
   "source": [
    "#IMAGE"
   ]
  },
  {
   "cell_type": "code",
   "execution_count": 16,
   "metadata": {},
   "outputs": [],
   "source": [
    "from PIL import Image\n",
    "with Image.open('birds.jpg') as img:\n",
    "    img_arr = np.array(img)\n",
    "\n",
    "reversed_img_arr = img_arr[:, ::-1]\n",
    "img_rev = Image.fromarray(reversed_img_arr)\n",
    "img_rev.save('reversed_birds.jpg')\n",
    "img_upside_down = Image.fromarray(reversed_img_arr[::-1, :])\n",
    "img_upside_down.save('upd_birds.png')"
   ]
  },
  {
   "cell_type": "code",
   "execution_count": 35,
   "metadata": {},
   "outputs": [],
   "source": [
    "with Image.open('birds.jpg') as img:\n",
    "    img_arr = np.array(img)\n",
    "\n",
    "img_arr[:, :, 0] = np.where(img_arr[:,:,0]<255, img_arr[:,:,0]+10, 255)\n",
    "img = Image.fromarray(img_arr)\n",
    "img.save('brightness.jpg')"
   ]
  },
  {
   "cell_type": "code",
   "execution_count": 36,
   "metadata": {},
   "outputs": [],
   "source": [
    "with Image.open('birds.jpg') as img:\n",
    "    img_arr = np.array(img)\n",
    "\n",
    "img_arr[100:200,100:200,:] = [0, 0, 0]\n",
    "img = Image.fromarray(img_arr)\n",
    "img.save('mask.jpg')"
   ]
  },
  {
   "cell_type": "code",
   "execution_count": null,
   "metadata": {},
   "outputs": [],
   "source": []
  }
 ],
 "metadata": {
  "kernelspec": {
   "display_name": "Python 3",
   "language": "python",
   "name": "python3"
  },
  "language_info": {
   "codemirror_mode": {
    "name": "ipython",
    "version": 3
   },
   "file_extension": ".py",
   "mimetype": "text/x-python",
   "name": "python",
   "nbconvert_exporter": "python",
   "pygments_lexer": "ipython3",
   "version": "3.12.5"
  }
 },
 "nbformat": 4,
 "nbformat_minor": 2
}
