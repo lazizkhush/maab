{
 "cells": [
  {
   "cell_type": "code",
   "execution_count": 1,
   "metadata": {},
   "outputs": [],
   "source": [
    "import sqlite3\n",
    "with sqlite3.connect('roaster.db') as con:\n",
    "    cursor = con.cursor()\n",
    "    query = \"\"\"Create table Roaster(Name text, Species text, Age int)\"\"\"\n",
    "    cursor.execute(query)"
   ]
  },
  {
   "cell_type": "code",
   "execution_count": 8,
   "metadata": {},
   "outputs": [],
   "source": [
    "with sqlite3.connect('roaster.db') as con:\n",
    "    cursor = con.cursor()\n",
    "    query = \"\"\"\n",
    "    INSERT INTO Roaster VALUES\n",
    "    ('Benjamin Sisko',\t'Human', 40),\n",
    "    ('Jadzia Dax', 'Trill',\t300),\n",
    "    ('Kira Nerys',\t'Bajoran',\t29);\n",
    "    \"\"\"\n",
    "    cursor.executescript(query)\n"
   ]
  },
  {
   "cell_type": "code",
   "execution_count": 9,
   "metadata": {},
   "outputs": [],
   "source": [
    "with sqlite3.connect('roaster.db') as con:\n",
    "    cursor = con.cursor()\n",
    "    query = \"\"\"\n",
    "    UPDATE Roaster \n",
    "    SET Name = 'Ezri Dax'\n",
    "    where Name='Jadzia Dax';\n",
    "    \"\"\"\n",
    "    cursor.execute(query)"
   ]
  },
  {
   "cell_type": "code",
   "execution_count": 10,
   "metadata": {},
   "outputs": [
    {
     "data": {
      "text/plain": [
       "[('Kira Nerys', 29)]"
      ]
     },
     "execution_count": 10,
     "metadata": {},
     "output_type": "execute_result"
    }
   ],
   "source": [
    "with sqlite3.connect('roaster.db') as con:\n",
    "    cursor = con.cursor()\n",
    "    query = \"\"\" \n",
    "    SELECT Name, Age from Roaster\n",
    "    where Species = 'Bajoran';\n",
    "    \"\"\"\n",
    "    data = cursor.execute(query)\n",
    "data.fetchall()"
   ]
  },
  {
   "cell_type": "code",
   "execution_count": 11,
   "metadata": {},
   "outputs": [],
   "source": [
    "with sqlite3.connect('roaster.db') as con:\n",
    "    cursor = con.cursor()\n",
    "    query = \"\"\" \n",
    "    DELETE FROM Roaster\n",
    "    where Age>100;\n",
    "    \"\"\"\n",
    "    cursor.execute(query)"
   ]
  },
  {
   "cell_type": "code",
   "execution_count": 12,
   "metadata": {},
   "outputs": [],
   "source": [
    "with sqlite3.connect('roaster.db') as con:\n",
    "    cursor = con.cursor()\n",
    "    query = \"\"\" \n",
    "    ALTER TABLE Roaster\n",
    "    ADD COlUMN Rank text;\n",
    "    UPDATE Roaster\n",
    "    SET Rank = 'Captain'\n",
    "    where Name = 'Benjamin Sisko';\n",
    "    UPDATE Roaster\n",
    "    SET Rank = 'Lieutenant'\n",
    "    where Name = 'Ezri Dax';\n",
    "    UPDATE Roaster\n",
    "    SET Rank = 'Major'\n",
    "    where Name = 'Kira Nerys';\n",
    "    \"\"\"\n",
    "    cursor.executescript(query)\n"
   ]
  },
  {
   "cell_type": "code",
   "execution_count": 19,
   "metadata": {},
   "outputs": [
    {
     "data": {
      "text/plain": [
       "[('Benjamin Sisko', 'Human', 40, 'Captain'),\n",
       " ('Kira Nerys', 'Bajoran', 29, 'Major')]"
      ]
     },
     "execution_count": 19,
     "metadata": {},
     "output_type": "execute_result"
    }
   ],
   "source": [
    "with sqlite3.connect('roaster.db') as con:\n",
    "    cursor = con.cursor()\n",
    "    query = \"\"\" \n",
    "    SELECT * FROM Roaster\n",
    "    ORDER BY Age DESC;\n",
    "    \"\"\"\n",
    "    data = cursor.execute(query)\n",
    "\n",
    "data.fetchall()"
   ]
  },
  {
   "cell_type": "code",
   "execution_count": null,
   "metadata": {},
   "outputs": [],
   "source": []
  }
 ],
 "metadata": {
  "kernelspec": {
   "display_name": "Python 3",
   "language": "python",
   "name": "python3"
  },
  "language_info": {
   "codemirror_mode": {
    "name": "ipython",
    "version": 3
   },
   "file_extension": ".py",
   "mimetype": "text/x-python",
   "name": "python",
   "nbconvert_exporter": "python",
   "pygments_lexer": "ipython3",
   "version": "3.12.5"
  }
 },
 "nbformat": 4,
 "nbformat_minor": 2
}
