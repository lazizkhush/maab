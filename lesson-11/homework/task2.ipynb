{
 "cells": [
  {
   "cell_type": "code",
   "execution_count": 3,
   "metadata": {},
   "outputs": [],
   "source": [
    "import sqlite3\n",
    "with sqlite3.connect(\"library.db\") as con:\n",
    "    cursor = con.cursor()\n",
    "    query = \"\"\"\n",
    "    CREATE Table Books(Title text, Author text, Year_Published int, Genre text)\n",
    "    \"\"\"\n",
    "    cursor.execute(query)"
   ]
  },
  {
   "cell_type": "code",
   "execution_count": 7,
   "metadata": {},
   "outputs": [],
   "source": [
    "with sqlite3.connect(\"library.db\") as con:\n",
    "    cursor = con.cursor()\n",
    "    values = (\n",
    "        ('To Kill a Mockingbird', 'Harper Lee', 1960, 'Fiction'),\n",
    "        ('1984', 'George Orwell', 1949, 'Dystopian'),\n",
    "        ('The Great Gatsby', 'F. Scott Fitzgerald', 1925, 'Classic')\n",
    "    )\n",
    "    \n",
    "    cursor.executemany(\"INSERT INTO Books VALUES(?, ?, ?, ?)\", values)"
   ]
  },
  {
   "cell_type": "code",
   "execution_count": 8,
   "metadata": {},
   "outputs": [],
   "source": [
    "with sqlite3.connect(\"library.db\") as con:\n",
    "    cursor = con.cursor()\n",
    "    query = \"\"\"\n",
    "    UPDATE Books\n",
    "    SET Year_Published = 1950\n",
    "    where Title = '1984';\n",
    "    \"\"\"\n",
    "    cursor.execute(query)"
   ]
  },
  {
   "cell_type": "code",
   "execution_count": 9,
   "metadata": {},
   "outputs": [
    {
     "data": {
      "text/plain": [
       "[('1984', 'George Orwell')]"
      ]
     },
     "execution_count": 9,
     "metadata": {},
     "output_type": "execute_result"
    }
   ],
   "source": [
    "with sqlite3.connect(\"library.db\") as con:\n",
    "    cursor = con.cursor()\n",
    "    query = \"\"\"\n",
    "    SELECT Title, Author\n",
    "    FROM Books\n",
    "    where Genre = 'Dystopian';\n",
    "    \"\"\"\n",
    "    books = cursor.execute(query)\n",
    "\n",
    "books.fetchall()"
   ]
  },
  {
   "cell_type": "code",
   "execution_count": 10,
   "metadata": {},
   "outputs": [],
   "source": [
    "with sqlite3.connect(\"library.db\") as con:\n",
    "    cursor = con.cursor()\n",
    "    query = \"\"\"\n",
    "    DELETE From Books\n",
    "    where Year_Published < 1950\n",
    "    \"\"\"\n",
    "    cursor.execute(query)"
   ]
  },
  {
   "cell_type": "code",
   "execution_count": 12,
   "metadata": {},
   "outputs": [],
   "source": [
    "with sqlite3.connect(\"library.db\") as con:\n",
    "    cursor = con.cursor()\n",
    "    query = \"\"\"\n",
    "    ALTER TABLE Books\n",
    "    ADD Column Rating FLOAT;\n",
    "    UPDATE Books\n",
    "    SET Rating = 4.8\n",
    "    where Title = 'To Kill a Mockingbird';\n",
    "    UPDATE Books \n",
    "    SET Rating = 4.7\n",
    "    where Title = '1984';\n",
    "    \"\"\"\n",
    "    cursor.executescript(query)"
   ]
  },
  {
   "cell_type": "code",
   "execution_count": 13,
   "metadata": {},
   "outputs": [
    {
     "data": {
      "text/plain": [
       "[('1984', 'George Orwell', 1950, 'Dystopian', 4.7),\n",
       " ('To Kill a Mockingbird', 'Harper Lee', 1960, 'Fiction', 4.8)]"
      ]
     },
     "execution_count": 13,
     "metadata": {},
     "output_type": "execute_result"
    }
   ],
   "source": [
    "with sqlite3.connect(\"library.db\") as con:\n",
    "    cursor = con.cursor()\n",
    "    query = \"\"\"\n",
    "    Select * FROM Books\n",
    "    ORDER BY Year_Published ASC;\n",
    "    \"\"\"\n",
    "    books = cursor.execute(query)\n",
    "\n",
    "books.fetchall()"
   ]
  },
  {
   "cell_type": "code",
   "execution_count": null,
   "metadata": {},
   "outputs": [],
   "source": []
  }
 ],
 "metadata": {
  "kernelspec": {
   "display_name": "Python 3",
   "language": "python",
   "name": "python3"
  },
  "language_info": {
   "codemirror_mode": {
    "name": "ipython",
    "version": 3
   },
   "file_extension": ".py",
   "mimetype": "text/x-python",
   "name": "python",
   "nbconvert_exporter": "python",
   "pygments_lexer": "ipython3",
   "version": "3.12.5"
  }
 },
 "nbformat": 4,
 "nbformat_minor": 2
}
